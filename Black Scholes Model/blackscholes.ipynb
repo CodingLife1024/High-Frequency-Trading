{
 "cells": [
  {
   "cell_type": "code",
   "execution_count": null,
   "metadata": {},
   "outputs": [],
   "source": [
    "import numpy as np\n",
    "from scipy.stats import norm\n",
    "from scipy.optimize import minimize\n",
    "import matplotlib.pyplot as plt"
   ]
  },
  {
   "cell_type": "code",
   "execution_count": null,
   "metadata": {},
   "outputs": [],
   "source": [
    "def black_scholes_call(S, K, T, r, sigma):\n",
    "    d1 = (np.log(S / K) + (r + 0.5 * sigma ** 2) * T) / (sigma * np.sqrt(T))\n",
    "    d2 = d1 - sigma * np.sqrt(T)\n",
    "    call_price = S * norm.cdf(d1) - K * np.exp(-r * T) * norm.cdf(d2)\n",
    "    return call_price"
   ]
  },
  {
   "cell_type": "code",
   "execution_count": null,
   "metadata": {},
   "outputs": [],
   "source": [
    "def black_scholes_put(S, K, T, r, sigma):\n",
    "    d1 = (np.log(S / K) + (r + 0.5 * sigma ** 2) * T) / (sigma * np.sqrt(T))\n",
    "    d2 = d1 - sigma * np.sqrt(T)\n",
    "    put_price = K * np.exp(-r * T) * norm.cdf(-d2) - S * norm.cdf(-d1)\n",
    "    return put_price"
   ]
  },
  {
   "cell_type": "code",
   "execution_count": null,
   "metadata": {},
   "outputs": [],
   "source": [
    "def black_scholes_greeks(S, K, T, r, sigma):\n",
    "    d1 = (np.log(S / K) + (r + 0.5 * sigma ** 2) * T) / (sigma * np.sqrt(T))\n",
    "    d2 = d1 - sigma * np.sqrt(T)\n",
    "    delta = norm.cdf(d1)\n",
    "    gamma = norm.pdf(d1) / (S * sigma * np.sqrt(T))\n",
    "    theta = (-S * norm.pdf(d1) * sigma / (2 * np.sqrt(T)) - r * K * np.exp(-r * T) * norm.cdf(d2))\n",
    "    vega = S * norm.pdf(d1) * np.sqrt(T)\n",
    "    rho = K * T * np.exp(-r * T) * norm.cdf(d2)\n",
    "    return delta, gamma, theta, vega, rho"
   ]
  },
  {
   "cell_type": "code",
   "execution_count": null,
   "metadata": {},
   "outputs": [],
   "source": [
    "def monte_carlo_simulation(S0, K, T, r, sigma, num_simulations=10000):\n",
    "    S = np.zeros(num_simulations)\n",
    "    for i in range(num_simulations):\n",
    "        ST = S0 * np.exp((r - 0.5 * sigma ** 2) * T + sigma * np.sqrt(T) * np.random.normal())\n",
    "        S[i] = ST\n",
    "    call_payoffs = np.maximum(S - K, 0)\n",
    "    put_payoffs = np.maximum(K - S, 0)\n",
    "    call_price = np.exp(-r * T) * np.mean(call_payoffs)\n",
    "    put_price = np.exp(-r * T) * np.mean(put_payoffs)\n",
    "    return call_price, put_price"
   ]
  },
  {
   "cell_type": "code",
   "execution_count": null,
   "metadata": {},
   "outputs": [],
   "source": [
    "def implied_volatility(option_price, S, K, T, r, option_type='call'):\n",
    "    def objective_function(sigma):\n",
    "        if option_type == 'call':\n",
    "            return (black_scholes_call(S, K, T, r, sigma) - option_price) ** 2\n",
    "        else:\n",
    "            return (black_scholes_put(S, K, T, r, sigma) - option_price) ** 2\n",
    "\n",
    "    result = minimize(objective_function, x0=0.2, bounds=[(0.01, 2)])\n",
    "    return result.x[0]"
   ]
  },
  {
   "cell_type": "code",
   "execution_count": null,
   "metadata": {},
   "outputs": [],
   "source": [
    "# Parameters\n",
    "current_asset_price = 100.00  # Current asset price\n",
    "strike_price = 100.00  # Strike price\n",
    "time_to_maturity = 1.00  # Time to maturity in years\n",
    "volatility = 0.20  # Volatility (σ)\n",
    "risk_free_rate = 0.05  # Risk-free interest rate\n",
    "\n",
    "min_spot_price = 80.05  # Min spot price\n",
    "max_spot_price = 120.07  # Max spot price\n",
    "min_volatility = 0.01  # Min volatility for heatmap\n",
    "max_volatility = 1.00  # Max volatility for heatmap"
   ]
  },
  {
   "cell_type": "code",
   "execution_count": null,
   "metadata": {},
   "outputs": [],
   "source": [
    "# Generate a range of underlying asset prices and strike prices\n",
    "S_values = np.linspace(min_spot_price, max_spot_price, 100)\n",
    "K_values = np.linspace(min_spot_price, max_spot_price, 100)\n",
    "\n",
    "# Initialize matrices to hold call and put prices\n",
    "call_prices = np.zeros((len(S_values), len(K_values)))\n",
    "put_prices = np.zeros((len(S_values), len(K_values)))"
   ]
  },
  {
   "cell_type": "code",
   "execution_count": null,
   "metadata": {},
   "outputs": [],
   "source": [
    "# Calculate prices\n",
    "for i, S in enumerate(S_values):\n",
    "    for j, K in enumerate(K_values):\n",
    "        call_prices[i, j] = black_scholes_call(S, K, time_to_maturity, risk_free_rate, volatility)\n",
    "        put_prices[i, j] = black_scholes_put(S, K, time_to_maturity, risk_free_rate, volatility)\n",
    "\n",
    "# Calculate and print the call and put prices for the given current asset price and strike price\n",
    "call_value = black_scholes_call(current_asset_price, strike_price, time_to_maturity, risk_free_rate, volatility)\n",
    "put_value = black_scholes_put(current_asset_price, strike_price, time_to_maturity, risk_free_rate, volatility)"
   ]
  },
  {
   "cell_type": "code",
   "execution_count": null,
   "metadata": {},
   "outputs": [],
   "source": [
    "print(f\"Call Price for Current Asset Price {current_asset_price} and Strike Price {strike_price}: {call_value:.2f}\")\n",
    "print(f\"Put Price for Current Asset Price {current_asset_price} and Strike Price {strike_price}: {put_value:.2f}\")"
   ]
  },
  {
   "cell_type": "code",
   "execution_count": null,
   "metadata": {},
   "outputs": [],
   "source": [
    "# Create heatmap for call prices with squares using matplotlib\n",
    "plt.figure(figsize=(12, 6))\n",
    "plt.pcolormesh(K_values, S_values, call_prices, cmap='YlGnBu', shading='auto')\n",
    "plt.colorbar(label='Call Price')\n",
    "plt.title('Call Prices Heatmap')\n",
    "plt.xlabel('Strike Price (K)')\n",
    "plt.ylabel('Underlying Asset Price (S)')\n",
    "plt.show()"
   ]
  },
  {
   "cell_type": "code",
   "execution_count": null,
   "metadata": {},
   "outputs": [],
   "source": [
    "# Create heatmap for put prices with squares using matplotlib\n",
    "plt.figure(figsize=(12, 6))\n",
    "plt.pcolormesh(K_values, S_values, put_prices, cmap='YlOrRd', shading='auto')\n",
    "plt.colorbar(label='Put Price')\n",
    "plt.title('Put Prices Heatmap')\n",
    "plt.xlabel('Strike Price (K)')\n",
    "plt.ylabel('Underlying Asset Price (S)')\n",
    "plt.show()"
   ]
  },
  {
   "cell_type": "code",
   "execution_count": null,
   "metadata": {},
   "outputs": [],
   "source": [
    "# Calculate Greeks\n",
    "delta_matrix = np.zeros((len(S_values), len(K_values)))\n",
    "gamma_matrix = np.zeros((len(S_values), len(K_values)))\n",
    "theta_matrix = np.zeros((len(S_values), len(K_values)))\n",
    "vega_matrix = np.zeros((len(S_values), len(K_values)))\n",
    "rho_matrix = np.zeros((len(S_values), len(K_values)))"
   ]
  },
  {
   "cell_type": "code",
   "execution_count": null,
   "metadata": {},
   "outputs": [],
   "source": [
    "for i, S in enumerate(S_values):\n",
    "    for j, K in enumerate(K_values):\n",
    "        delta, gamma, theta, vega, rho = black_scholes_greeks(S, K, time_to_maturity, risk_free_rate, volatility)\n",
    "        delta_matrix[i, j] = delta\n",
    "        gamma_matrix[i, j] = gamma\n",
    "        theta_matrix[i, j] = theta\n",
    "        vega_matrix[i, j] = vega\n",
    "        rho_matrix[i, j] = rho"
   ]
  },
  {
   "cell_type": "code",
   "execution_count": null,
   "metadata": {},
   "outputs": [],
   "source": [
    "# Create heatmaps for Greeks\n",
    "plt.figure(figsize=(12, 6))\n",
    "plt.pcolormesh(K_values, S_values, delta_matrix, cmap='coolwarm', shading='auto')\n",
    "plt.colorbar(label='Delta')\n",
    "plt.title('Delta Heatmap')\n",
    "plt.xlabel('Strike Price (K)')\n",
    "plt.ylabel('Underlying Asset Price (S)')\n",
    "plt.show()"
   ]
  },
  {
   "cell_type": "code",
   "execution_count": null,
   "metadata": {},
   "outputs": [],
   "source": [
    "plt.figure(figsize=(12, 6))\n",
    "plt.pcolormesh(K_values, S_values, gamma_matrix, cmap='coolwarm', shading='auto')\n",
    "plt.colorbar(label='Gamma')\n",
    "plt.title('Gamma Heatmap')\n",
    "plt.xlabel('Strike Price (K)')\n",
    "plt.ylabel('Underlying Asset Price (S)')\n",
    "plt.show()"
   ]
  },
  {
   "cell_type": "code",
   "execution_count": null,
   "metadata": {},
   "outputs": [],
   "source": [
    "plt.figure(figsize=(12, 6))\n",
    "plt.pcolormesh(K_values, S_values, theta_matrix, cmap='coolwarm', shading='auto')\n",
    "plt.colorbar(label='Theta')\n",
    "plt.title('Theta Heatmap')\n",
    "plt.xlabel('Strike Price (K)')\n",
    "plt.ylabel('Underlying Asset Price (S)')\n",
    "plt.show()"
   ]
  },
  {
   "cell_type": "code",
   "execution_count": null,
   "metadata": {},
   "outputs": [],
   "source": [
    "plt.figure(figsize=(12, 6))\n",
    "plt.pcolormesh(K_values, S_values, vega_matrix, cmap='coolwarm', shading='auto')\n",
    "plt.colorbar(label='Vega')\n",
    "plt.title('Vega Heatmap')\n",
    "plt.xlabel('Strike Price (K)')\n",
    "plt.ylabel('Underlying Asset Price (S)')\n",
    "plt.show()"
   ]
  },
  {
   "cell_type": "code",
   "execution_count": null,
   "metadata": {},
   "outputs": [],
   "source": [
    "plt.figure(figsize=(12, 6))\n",
    "plt.pcolormesh(K_values, S_values, rho_matrix, cmap='coolwarm', shading='auto')\n",
    "plt.colorbar(label='Rho')\n",
    "plt.title('Rho Heatmap')\n",
    "plt.xlabel('Strike Price (K)')\n",
    "plt.ylabel('Underlying Asset Price (S)')\n",
    "plt.show()"
   ]
  },
  {
   "cell_type": "code",
   "execution_count": null,
   "metadata": {},
   "outputs": [],
   "source": [
    "volatility_range = np.linspace(min_volatility, max_volatility, 10)\n",
    "call_prices_vol = np.zeros(len(volatility_range))\n",
    "put_prices_vol = np.zeros(len(volatility_range))"
   ]
  },
  {
   "cell_type": "code",
   "execution_count": null,
   "metadata": {},
   "outputs": [],
   "source": [
    "for idx, vol in enumerate(volatility_range):\n",
    "    call_prices_vol[idx] = black_scholes_call(current_asset_price, strike_price, time_to_maturity, risk_free_rate, vol)\n",
    "    put_prices_vol[idx] = black_scholes_put(current_asset_price, strike_price, time_to_maturity, risk_free_rate, vol)"
   ]
  },
  {
   "cell_type": "code",
   "execution_count": null,
   "metadata": {},
   "outputs": [],
   "source": [
    "plt.figure(figsize=(12, 6))\n",
    "plt.plot(volatility_range, call_prices_vol, label='Call Price')\n",
    "plt.plot(volatility_range, put_prices_vol, label='Put Price')\n",
    "plt.title('Option Prices Sensitivity to Volatility')\n",
    "plt.xlabel('Volatility')\n",
    "plt.ylabel('Price')\n",
    "plt.legend()\n",
    "plt.show()"
   ]
  },
  {
   "cell_type": "code",
   "execution_count": null,
   "metadata": {},
   "outputs": [],
   "source": [
    "mc_call_price, mc_put_price = monte_carlo_simulation(current_asset_price, strike_price, time_to_maturity, risk_free_rate, volatility)\n",
    "bs_call_price = black_scholes_call(current_asset_price, strike_price, time_to_maturity, risk_free_rate, volatility)\n",
    "bs_put_price = black_scholes_put(current_asset_price, strike_price, time_to_maturity, risk_free_rate, volatility)"
   ]
  },
  {
   "cell_type": "code",
   "execution_count": null,
   "metadata": {},
   "outputs": [],
   "source": [
    "print(f\"Monte Carlo Call Price: {mc_call_price:.2f}\")\n",
    "print(f\"Black-Scholes Call Price: {bs_call_price:.2f}\")\n",
    "print(f\"Monte Carlo Put Price: {mc_put_price:.2f}\")\n",
    "print(f\"Black-Scholes Put Price: {bs_put_price:.2f}\")"
   ]
  }
 ],
 "metadata": {
  "kernelspec": {
   "display_name": "Python 3",
   "language": "python",
   "name": "python3"
  },
  "language_info": {
   "codemirror_mode": {
    "name": "ipython",
    "version": 3
   },
   "file_extension": ".py",
   "mimetype": "text/x-python",
   "name": "python",
   "nbconvert_exporter": "python",
   "pygments_lexer": "ipython3",
   "version": "3.12.2"
  }
 },
 "nbformat": 4,
 "nbformat_minor": 2
}
